{
 "cells": [
  {
   "cell_type": "code",
   "execution_count": 28,
   "metadata": {},
   "outputs": [],
   "source": [
    "import pandas as pd\n",
    "from datetime import datetime, timedelta\n",
    "import os"
   ]
  },
  {
   "cell_type": "code",
   "execution_count": 29,
   "metadata": {},
   "outputs": [],
   "source": [
    "# retrieve stop_times.txt files for each gtfs generation dates\n",
    "extract_path = \"./files/extracted/\"\n",
    "stops_path = \"/stops.txt\"\n",
    "gtfs_generation_dates = [item for item in os.listdir(extract_path) if os.path.isdir(os.path.join(extract_path, item))]\n",
    "\n",
    "# Read in the stations_to_stops.csv file to a DataFrame\n",
    "stations_to_stops_df = pd.read_csv('mappings/stations_to_stops.csv')\n"
   ]
  },
  {
   "cell_type": "code",
   "execution_count": 30,
   "metadata": {},
   "outputs": [],
   "source": [
    "def process_stops_file():\n",
    "\n",
    "    agg_stops = pd.DataFrame()\n",
    "    for gtfs_date in gtfs_generation_dates:\n",
    "\n",
    "        # Read the stop_times.txt file into a DataFrame\n",
    "        stops = pd.read_csv(extract_path + gtfs_date + stops_path)\n",
    "        agg_stops = pd.concat([agg_stops, stops])\n",
    "\n",
    "    agg_stops = agg_stops[['stop_id','parent_station','stop_lat','stop_lon']] \\\n",
    "        .drop_duplicates()\n",
    "    return(agg_stops)"
   ]
  },
  {
   "cell_type": "code",
   "execution_count": 36,
   "metadata": {},
   "outputs": [],
   "source": [
    "stops_df = process_stops_file()\n",
    "\n",
    "# Merge the stops_df and stations_to_stops_df DataFrames on the stop_id column\n",
    "# merged_df = pd.merge(stops_df, stations_to_stops_df, on='stop_id')\n",
    "merged_df = pd.merge(stops_df, stations_to_stops_df, left_on=['stop_id'], right_on=['station_id'])\n",
    "\n",
    "merged_df = merged_df[['stop_lat','stop_lon','station_id']]\n",
    "\n",
    "# Group the merged_df DataFrame by the station_id column and aggregate the latitude and longitude columns by taking the mean\n",
    "coordinates_df = merged_df.groupby('station_id')[['stop_lat', 'stop_lon']].mean()\n",
    "\n",
    "# Reset the index to make station_id a column instead of an index\n",
    "coordinates_df = coordinates_df.reset_index()\n",
    "\n",
    "# Generate a mappings folder if it doesn't exist\n",
    "if not os.path.exists('mappings'):\n",
    "    os.makedirs('mappings')\n",
    "\n",
    "# Generate a mapping file for future reference\n",
    "coordinates_df.to_csv(\"mappings/stations_to_coordinates.csv\", index=False)"
   ]
  }
 ],
 "metadata": {
  "kernelspec": {
   "display_name": "base",
   "language": "python",
   "name": "python3"
  },
  "language_info": {
   "codemirror_mode": {
    "name": "ipython",
    "version": 3
   },
   "file_extension": ".py",
   "mimetype": "text/x-python",
   "name": "python",
   "nbconvert_exporter": "python",
   "pygments_lexer": "ipython3",
   "version": "3.9.16"
  },
  "orig_nbformat": 4,
  "vscode": {
   "interpreter": {
    "hash": "b8b887db99f8edfa7f3e3a008cc1b31fa63afeb09acb3c9f070418078094f7b2"
   }
  }
 },
 "nbformat": 4,
 "nbformat_minor": 2
}
