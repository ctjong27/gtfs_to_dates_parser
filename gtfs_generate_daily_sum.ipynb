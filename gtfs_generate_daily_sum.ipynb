{
 "cells": [
  {
   "cell_type": "code",
   "execution_count": 1,
   "metadata": {},
   "outputs": [],
   "source": [
    "import matplotlib.pyplot as plt\n",
    "import pandas as pd\n",
    "import os\n"
   ]
  },
  {
   "cell_type": "code",
   "execution_count": 2,
   "metadata": {},
   "outputs": [],
   "source": [
    "# Configuration\n",
    "SEARCH_START_YEAR  = 2020\n",
    "SEARCH_START_MONTH = 1\n",
    "SEARCH_START_DAY   = 1\n",
    "\n",
    "SEARCH_END_YEAR  = 2023\n",
    "SEARCH_END_MONTH = 5\n",
    "SEARCH_END_DAY   = 31\n",
    "\n",
    "SEARCH_START_DATE = SEARCH_START_YEAR*10000 + SEARCH_START_MONTH*100 + SEARCH_START_DAY\n",
    "SEARCH_END_DATE   = SEARCH_END_YEAR*10000 + SEARCH_END_MONTH*100 + SEARCH_END_DAY\n",
    "\n",
    "queried_start_date = pd.to_datetime(SEARCH_START_DATE, format='%Y%m%d')\n",
    "queried_end_date = pd.to_datetime(SEARCH_END_DATE, format='%Y%m%d')\n",
    "\n",
    "queried_date_range = pd.date_range(start=queried_start_date, end=queried_end_date)\n",
    "queried_date_range_df = pd.DataFrame({'date': queried_date_range.strftime('%Y%m%d').astype(int)})"
   ]
  },
  {
   "cell_type": "code",
   "execution_count": 15,
   "metadata": {},
   "outputs": [],
   "source": [
    "# for all of the files in ./results/daily_files/, open the ones in the range\n",
    "daily_results_path = \"./results/daily_files/\"\n",
    "\n",
    "aggregated_daily_df = pd.DataFrame(columns=['date','total_stops'])\n",
    "\n",
    "# for each file opened, add a data frame row entry for the date and the corresponding aggregate of total_count\n",
    "for index, row in queried_date_range_df.iterrows():\n",
    "    date = row['date']\n",
    "    if not os.path.exists(f'{daily_results_path}{date}.csv'):\n",
    "        print(f'{daily_results_path}{date}.csv does not exist')\n",
    "        break\n",
    "    else:\n",
    "        # aggregated_daily_df = pd.concat([aggregated_daily_df, \n",
    "        #                          pd.DataFrame({'date':date,\n",
    "        #                                        'total_stops':int(pd.read_csv(f'{daily_results_path}{date}.csv')['total_count'].sum())\n",
    "        #                                       })])\n",
    "        aggregated_daily_df = pd.concat([aggregated_daily_df, \n",
    "                                 pd.DataFrame({'date':[date],\n",
    "                                               'total_stops':[int(pd.read_csv(f'{daily_results_path}{date}.csv')['total_count'].sum())]\n",
    "                                              })])\n",
    "        "
   ]
  },
  {
   "cell_type": "code",
   "execution_count": null,
   "metadata": {},
   "outputs": [],
   "source": [
    "aggregated_daily_df.to_csv('./results/aggregated_daily.csv', index=False)"
   ]
  }
 ],
 "metadata": {
  "kernelspec": {
   "display_name": "base",
   "language": "python",
   "name": "python3"
  },
  "language_info": {
   "codemirror_mode": {
    "name": "ipython",
    "version": 3
   },
   "file_extension": ".py",
   "mimetype": "text/x-python",
   "name": "python",
   "nbconvert_exporter": "python",
   "pygments_lexer": "ipython3",
   "version": "3.9.16"
  },
  "orig_nbformat": 4,
  "vscode": {
   "interpreter": {
    "hash": "b8b887db99f8edfa7f3e3a008cc1b31fa63afeb09acb3c9f070418078094f7b2"
   }
  }
 },
 "nbformat": 4,
 "nbformat_minor": 2
}
