{
 "cells": [
  {
   "cell_type": "code",
   "execution_count": 4,
   "metadata": {},
   "outputs": [],
   "source": [
    "import pandas as pd\n",
    "from datetime import datetime, timedelta\n",
    "import os\n",
    "\n",
    "# The reason from and to gtfs generation dates are included is to ensure that different\n",
    "# timeframes' gtfs service_id's trip_ids are maintained"
   ]
  },
  {
   "cell_type": "code",
   "execution_count": 5,
   "metadata": {},
   "outputs": [],
   "source": [
    "# Retrieve trips.txt files for each gtfs generation dates\n",
    "extract_path = \"./files/extracted/\"\n",
    "trips_path = \"/trips.txt\"\n",
    "gtfs_generation_dates = [item for item in os.listdir(extract_path) if os.path.isdir(os.path.join(extract_path, item))]"
   ]
  },
  {
   "cell_type": "code",
   "execution_count": 6,
   "metadata": {},
   "outputs": [],
   "source": [
    "def process_trips_dates_file(current_gtfs_date, next_gtfs_date):\n",
    "    # Read the trips.txt file into a DataFrame\n",
    "    transfers = pd.read_csv(extract_path + current_gtfs_date + trips_path)\n",
    "    transfers['current_gtfs_date'] = current_gtfs_date\n",
    "    transfers['next_gtfs_date'] = next_gtfs_date\n",
    "    # transfers['next_gtfs_date'] = 99991231 if next_gtfs_date == None else next_gtfs_date\n",
    "\n",
    "    return(transfers)"
   ]
  },
  {
   "cell_type": "code",
   "execution_count": 7,
   "metadata": {},
   "outputs": [],
   "source": [
    "# total_trips = pd.DataFrame()\n",
    "# # Set the path to the GTFS files\n",
    "# for gtfs_date in gtfs_generation_dates:\n",
    "#     # calendar_file = folder_path + filename # example: calendar_20181221.txt'\n",
    "#     total_trips = pd.concat([total_trips, process_trips_dates_file(gtfs_date)])\n",
    "\n",
    "# # Group by trip_id and service_id and get the minimum value_amount in each group\n",
    "# grouped_df = total_trips.groupby([\"trip_id\", \"service_id\"]).agg({\"gtfs_generation_date\": \"min\"}).reset_index()"
   ]
  },
  {
   "cell_type": "code",
   "execution_count": 8,
   "metadata": {},
   "outputs": [],
   "source": [
    "total_trips = pd.DataFrame()\n",
    "for i, item in enumerate(gtfs_generation_dates):\n",
    "    # Set the last date for 'next_item' to be highdate\n",
    "    next_item = gtfs_generation_dates[i+1] if i < len(gtfs_generation_dates)-1 else 99991231\n",
    "    total_trips = pd.concat([total_trips, process_trips_dates_file(item, next_item)])"
   ]
  },
  {
   "cell_type": "code",
   "execution_count": 9,
   "metadata": {},
   "outputs": [],
   "source": [
    "# Clean total_transfers down to columns that are applicable for the logic going forward\n",
    "total_transfers = total_trips[['service_id','trip_id','current_gtfs_date','next_gtfs_date']]\n",
    "unique_transfers = total_transfers.drop_duplicates()"
   ]
  },
  {
   "cell_type": "code",
   "execution_count": 10,
   "metadata": {},
   "outputs": [],
   "source": [
    "# Generate a mappings folder if it doesn't exist\n",
    "if not os.path.exists('mappings'):\n",
    "    os.makedirs('mappings')\n",
    "\n",
    "# Generate a mapping file for future reference\n",
    "unique_transfers.to_csv('mappings/services_to_trips.csv', index=False)"
   ]
  }
 ],
 "metadata": {
  "kernelspec": {
   "display_name": "base",
   "language": "python",
   "name": "python3"
  },
  "language_info": {
   "codemirror_mode": {
    "name": "ipython",
    "version": 3
   },
   "file_extension": ".py",
   "mimetype": "text/x-python",
   "name": "python",
   "nbconvert_exporter": "python",
   "pygments_lexer": "ipython3",
   "version": "3.9.16"
  },
  "orig_nbformat": 4,
  "vscode": {
   "interpreter": {
    "hash": "b8b887db99f8edfa7f3e3a008cc1b31fa63afeb09acb3c9f070418078094f7b2"
   }
  }
 },
 "nbformat": 4,
 "nbformat_minor": 2
}
