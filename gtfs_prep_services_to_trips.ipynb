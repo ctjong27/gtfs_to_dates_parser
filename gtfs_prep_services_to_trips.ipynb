{
 "cells": [
  {
   "cell_type": "code",
   "execution_count": 1,
   "metadata": {},
   "outputs": [],
   "source": [
    "import pandas as pd\n",
    "from datetime import datetime, timedelta\n",
    "import os\n",
    "\n",
    "# The reason from and to gtfs generation dates are included is to ensure that different\n",
    "# timeframes' gtfs service_id's trip_ids are maintained"
   ]
  },
  {
   "cell_type": "code",
   "execution_count": 2,
   "metadata": {},
   "outputs": [],
   "source": [
    "# Retrieve trips.txt files for each gtfs generation dates\n",
    "extract_path = \"./files/extracted/\"\n",
    "trips_path = \"/trips.txt\"\n",
    "gtfs_generation_dates = [item for item in os.listdir(extract_path) if os.path.isdir(os.path.join(extract_path, item))]"
   ]
  },
  {
   "cell_type": "code",
   "execution_count": 3,
   "metadata": {},
   "outputs": [],
   "source": [
    "def process_trips_dates_file(current_gtfs_date, next_gtfs_date):\n",
    "    # Read the trips.txt file into a DataFrame\n",
    "    transfers = pd.read_csv(extract_path + current_gtfs_date + trips_path)\n",
    "    transfers['current_gtfs_date'] = current_gtfs_date\n",
    "    transfers['next_gtfs_date'] = next_gtfs_date\n",
    "    # transfers['next_gtfs_date'] = 99991231 if next_gtfs_date == None else next_gtfs_date\n",
    "\n",
    "    return(transfers)"
   ]
  },
  {
   "cell_type": "code",
   "execution_count": null,
   "metadata": {},
   "outputs": [],
   "source": [
    "# total_trips = pd.DataFrame()\n",
    "# # Set the path to the GTFS files\n",
    "# for gtfs_date in gtfs_generation_dates:\n",
    "#     # calendar_file = folder_path + filename # example: calendar_20181221.txt'\n",
    "#     total_trips = pd.concat([total_trips, process_trips_dates_file(gtfs_date)])\n",
    "\n",
    "# # Group by trip_id and service_id and get the minimum value_amount in each group\n",
    "# grouped_df = total_trips.groupby([\"trip_id\", \"service_id\"]).agg({\"gtfs_generation_date\": \"min\"}).reset_index()"
   ]
  },
  {
   "cell_type": "code",
   "execution_count": 20,
   "metadata": {},
   "outputs": [],
   "source": [
    "total_trips = pd.DataFrame()\n",
    "for i, item in enumerate(gtfs_generation_dates):\n",
    "    # Set the last date for 'next_item' to be highdate\n",
    "    next_item = gtfs_generation_dates[i+1] if i < len(gtfs_generation_dates)-1 else 99991231\n",
    "    total_trips = pd.concat([total_trips, process_trips_dates_file(item, next_item)])"
   ]
  },
  {
   "cell_type": "code",
   "execution_count": 23,
   "metadata": {},
   "outputs": [],
   "source": [
    "# Clean total_transfers down to columns that are applicable for the logic going forward\n",
    "total_transfers = total_trips[['service_id','trip_id','current_gtfs_date','next_gtfs_date']]\n",
    "unique_transfers = total_transfers.drop_duplicates()"
   ]
  },
  {
   "cell_type": "code",
   "execution_count": 27,
   "metadata": {},
   "outputs": [
    {
     "data": {
      "text/html": [
       "<div>\n",
       "<style scoped>\n",
       "    .dataframe tbody tr th:only-of-type {\n",
       "        vertical-align: middle;\n",
       "    }\n",
       "\n",
       "    .dataframe tbody tr th {\n",
       "        vertical-align: top;\n",
       "    }\n",
       "\n",
       "    .dataframe thead th {\n",
       "        text-align: right;\n",
       "    }\n",
       "</style>\n",
       "<table border=\"1\" class=\"dataframe\">\n",
       "  <thead>\n",
       "    <tr style=\"text-align: right;\">\n",
       "      <th></th>\n",
       "      <th>service_id</th>\n",
       "      <th>trip_id</th>\n",
       "      <th>current_gtfs_date</th>\n",
       "      <th>next_gtfs_date</th>\n",
       "    </tr>\n",
       "  </thead>\n",
       "  <tbody>\n",
       "    <tr>\n",
       "      <th>0</th>\n",
       "      <td>A20130803WKD</td>\n",
       "      <td>A20130803WKD_000800_1..S03R</td>\n",
       "      <td>20131030</td>\n",
       "      <td>20140204</td>\n",
       "    </tr>\n",
       "    <tr>\n",
       "      <th>1</th>\n",
       "      <td>A20130803WKD</td>\n",
       "      <td>A20130803WKD_007300_1..N03R</td>\n",
       "      <td>20131030</td>\n",
       "      <td>20140204</td>\n",
       "    </tr>\n",
       "    <tr>\n",
       "      <th>2</th>\n",
       "      <td>A20130803WKD</td>\n",
       "      <td>A20130803WKD_002700_1..S03R</td>\n",
       "      <td>20131030</td>\n",
       "      <td>20140204</td>\n",
       "    </tr>\n",
       "    <tr>\n",
       "      <th>3</th>\n",
       "      <td>A20130803WKD</td>\n",
       "      <td>A20130803WKD_009300_1..N03R</td>\n",
       "      <td>20131030</td>\n",
       "      <td>20140204</td>\n",
       "    </tr>\n",
       "    <tr>\n",
       "      <th>4</th>\n",
       "      <td>A20130803WKD</td>\n",
       "      <td>A20130803WKD_004700_1..S03R</td>\n",
       "      <td>20131030</td>\n",
       "      <td>20140204</td>\n",
       "    </tr>\n",
       "    <tr>\n",
       "      <th>...</th>\n",
       "      <td>...</td>\n",
       "      <td>...</td>\n",
       "      <td>...</td>\n",
       "      <td>...</td>\n",
       "    </tr>\n",
       "    <tr>\n",
       "      <th>19649</th>\n",
       "      <td>SIR-FA2017-SI017-Sunday-00</td>\n",
       "      <td>SIR-FA2017-SI017-Sunday-00_138600_SI..S03R</td>\n",
       "      <td>20221129</td>\n",
       "      <td>99991231</td>\n",
       "    </tr>\n",
       "    <tr>\n",
       "      <th>19650</th>\n",
       "      <td>SIR-FA2017-SI017-Sunday-00</td>\n",
       "      <td>SIR-FA2017-SI017-Sunday-00_141100_SI..N03R</td>\n",
       "      <td>20221129</td>\n",
       "      <td>99991231</td>\n",
       "    </tr>\n",
       "    <tr>\n",
       "      <th>19651</th>\n",
       "      <td>SIR-FA2017-SI017-Sunday-00</td>\n",
       "      <td>SIR-FA2017-SI017-Sunday-00_141600_SI..S03R</td>\n",
       "      <td>20221129</td>\n",
       "      <td>99991231</td>\n",
       "    </tr>\n",
       "    <tr>\n",
       "      <th>19652</th>\n",
       "      <td>SIR-FA2017-SI017-Sunday-00</td>\n",
       "      <td>SIR-FA2017-SI017-Sunday-00_144100_SI..N03R</td>\n",
       "      <td>20221129</td>\n",
       "      <td>99991231</td>\n",
       "    </tr>\n",
       "    <tr>\n",
       "      <th>19653</th>\n",
       "      <td>SIR-FA2017-SI017-Sunday-00</td>\n",
       "      <td>SIR-FA2017-SI017-Sunday-00_147100_SI..N03R</td>\n",
       "      <td>20221129</td>\n",
       "      <td>99991231</td>\n",
       "    </tr>\n",
       "  </tbody>\n",
       "</table>\n",
       "<p>1135414 rows × 4 columns</p>\n",
       "</div>"
      ],
      "text/plain": [
       "                       service_id                                     trip_id  \\\n",
       "0                    A20130803WKD                 A20130803WKD_000800_1..S03R   \n",
       "1                    A20130803WKD                 A20130803WKD_007300_1..N03R   \n",
       "2                    A20130803WKD                 A20130803WKD_002700_1..S03R   \n",
       "3                    A20130803WKD                 A20130803WKD_009300_1..N03R   \n",
       "4                    A20130803WKD                 A20130803WKD_004700_1..S03R   \n",
       "...                           ...                                         ...   \n",
       "19649  SIR-FA2017-SI017-Sunday-00  SIR-FA2017-SI017-Sunday-00_138600_SI..S03R   \n",
       "19650  SIR-FA2017-SI017-Sunday-00  SIR-FA2017-SI017-Sunday-00_141100_SI..N03R   \n",
       "19651  SIR-FA2017-SI017-Sunday-00  SIR-FA2017-SI017-Sunday-00_141600_SI..S03R   \n",
       "19652  SIR-FA2017-SI017-Sunday-00  SIR-FA2017-SI017-Sunday-00_144100_SI..N03R   \n",
       "19653  SIR-FA2017-SI017-Sunday-00  SIR-FA2017-SI017-Sunday-00_147100_SI..N03R   \n",
       "\n",
       "      current_gtfs_date next_gtfs_date  \n",
       "0              20131030       20140204  \n",
       "1              20131030       20140204  \n",
       "2              20131030       20140204  \n",
       "3              20131030       20140204  \n",
       "4              20131030       20140204  \n",
       "...                 ...            ...  \n",
       "19649          20221129       99991231  \n",
       "19650          20221129       99991231  \n",
       "19651          20221129       99991231  \n",
       "19652          20221129       99991231  \n",
       "19653          20221129       99991231  \n",
       "\n",
       "[1135414 rows x 4 columns]"
      ]
     },
     "execution_count": 27,
     "metadata": {},
     "output_type": "execute_result"
    }
   ],
   "source": [
    "# Generate a mappings folder if it doesn't exist\n",
    "if not os.path.exists('mappings'):\n",
    "    os.makedirs('mappings')\n",
    "\n",
    "# Generate a mapping file for future reference\n",
    "unique_transfers.to_csv('mappings/services_to_trips.csv', index=False)"
   ]
  }
 ],
 "metadata": {
  "kernelspec": {
   "display_name": "base",
   "language": "python",
   "name": "python3"
  },
  "language_info": {
   "codemirror_mode": {
    "name": "ipython",
    "version": 3
   },
   "file_extension": ".py",
   "mimetype": "text/x-python",
   "name": "python",
   "nbconvert_exporter": "python",
   "pygments_lexer": "ipython3",
   "version": "3.9.16"
  },
  "orig_nbformat": 4,
  "vscode": {
   "interpreter": {
    "hash": "b8b887db99f8edfa7f3e3a008cc1b31fa63afeb09acb3c9f070418078094f7b2"
   }
  }
 },
 "nbformat": 4,
 "nbformat_minor": 2
}
