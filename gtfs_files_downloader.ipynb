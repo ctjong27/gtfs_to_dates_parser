{
 "cells": [
  {
   "cell_type": "code",
   "execution_count": 1,
   "metadata": {},
   "outputs": [
    {
     "name": "stdout",
     "output_type": "stream",
     "text": [
      "Total number of pages: 6\n"
     ]
    }
   ],
   "source": [
    "import requests\n",
    "from bs4 import BeautifulSoup\n",
    "\n",
    "url = \"https://transitfeeds.com/p/mta/79\"\n",
    "response = requests.get(url)\n",
    "total_pages = 0\n",
    "\n",
    "if response.status_code == 200:\n",
    "    soup = BeautifulSoup(response.content, \"html.parser\")\n",
    "    pagination = soup.find(\"ul\", class_=\"pagination\")\n",
    "    last_page_link = pagination.find_all(\"a\")[-1] # second to last link\n",
    "    total_pages = int(last_page_link.text)\n",
    "    print(f\"Total number of pages: {total_pages}\")\n",
    "else:\n",
    "    print(f\"Failed to retrieve data from {url}. Status code: {response.status_code}\")\n"
   ]
  },
  {
   "cell_type": "code",
   "execution_count": 4,
   "metadata": {},
   "outputs": [
    {
     "name": "stdout",
     "output_type": "stream",
     "text": [
      "['29 November 2022', '21 November 2022', '15 June 2022', '10 December 2021', '9 November 2021', '13 July 2021', '15 June 2021', '3 May 2021', '15 March 2021', '2 November 2020']\n"
     ]
    }
   ],
   "source": [
    "import requests\n",
    "from bs4 import BeautifulSoup\n",
    "\n",
    "url = 'https://transitfeeds.com/p/mta/79?p=1'\n",
    "response = requests.get(url)\n",
    "soup = BeautifulSoup(response.content, 'html.parser')\n",
    "\n",
    "a_text_list = []\n",
    "\n",
    "# Find all tbody elements\n",
    "tbody_elements = soup.find_all('tbody')\n",
    "\n",
    "# Loop through each tbody element\n",
    "for tbody in tbody_elements:\n",
    "    # Find all tr elements within the current tbody\n",
    "    tr_elements = tbody.find_all('tr')\n",
    "    \n",
    "    # Loop through each tr element\n",
    "    for tr in tr_elements:\n",
    "        # Find the first td element within the current tr\n",
    "        td_element = tr.find('td')\n",
    "        \n",
    "        # Find the first a element within the current td and extract its text\n",
    "        a_element = td_element.find('a')\n",
    "        a_text_list.append(a_element.text)\n",
    "                \n",
    "print(a_text_list)"
   ]
  }
 ],
 "metadata": {
  "kernelspec": {
   "display_name": "base",
   "language": "python",
   "name": "python3"
  },
  "language_info": {
   "codemirror_mode": {
    "name": "ipython",
    "version": 3
   },
   "file_extension": ".py",
   "mimetype": "text/x-python",
   "name": "python",
   "nbconvert_exporter": "python",
   "pygments_lexer": "ipython3",
   "version": "3.9.16"
  },
  "orig_nbformat": 4,
  "vscode": {
   "interpreter": {
    "hash": "b8b887db99f8edfa7f3e3a008cc1b31fa63afeb09acb3c9f070418078094f7b2"
   }
  }
 },
 "nbformat": 4,
 "nbformat_minor": 2
}
