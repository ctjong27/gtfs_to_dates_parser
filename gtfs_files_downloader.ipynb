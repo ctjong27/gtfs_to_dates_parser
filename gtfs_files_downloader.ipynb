{
 "cells": [
  {
   "cell_type": "code",
   "execution_count": 1,
   "metadata": {},
   "outputs": [
    {
     "name": "stdout",
     "output_type": "stream",
     "text": [
      "Total number of pages: 6\n"
     ]
    }
   ],
   "source": [
    "import requests\n",
    "from bs4 import BeautifulSoup\n",
    "\n",
    "url = \"https://transitfeeds.com/p/mta/79\"\n",
    "response = requests.get(url)\n",
    "total_pages = 0\n",
    "\n",
    "if response.status_code == 200:\n",
    "    soup = BeautifulSoup(response.content, \"html.parser\")\n",
    "    pagination = soup.find(\"ul\", class_=\"pagination\")\n",
    "    last_page_link = pagination.find_all(\"a\")[-1] # second to last link\n",
    "    total_pages = int(last_page_link.text)\n",
    "    print(f\"Total number of pages: {total_pages}\")\n",
    "else:\n",
    "    print(f\"Failed to retrieve data from {url}. Status code: {response.status_code}\")\n"
   ]
  },
  {
   "cell_type": "code",
   "execution_count": 6,
   "metadata": {},
   "outputs": [
    {
     "name": "stdout",
     "output_type": "stream",
     "text": [
      "['20221129', '20221121', '20220615', '20211210', '20211109', '20210713', '20210615', '20210503', '20210315', '20201102', '20201001', '20200910', '20200814', '20200430', '20200109', '20191231', '20191112', '20191003', '20190909', '20190509', '20190423', '20190420', '20181221', '20181113', '20181004', '20180908', '20180708', '20180622', '20180615', '20180109', '20171109', '20171106', '20170919', '20170712', '20170619', '20170130', '20170124', '20170113', '20161222', '20161210', '20161107', '20161103', '20160627', '20160502', '20151207', '20150914', '20150909', '20150901', '20150616', '20141204', '20140919', '20140822', '20140801', '20140715', '20140626', '20140326', '20140204', '20131030']\n"
     ]
    }
   ],
   "source": [
    "import requests\n",
    "from bs4 import BeautifulSoup\n",
    "from datetime import datetime\n",
    "\n",
    "a_text_list = []\n",
    "\n",
    "# Loop through pages 1 to total_pages\n",
    "for page_num in range(1, total_pages + 1):\n",
    "    url = f'https://transitfeeds.com/p/mta/79?p={page_num}'\n",
    "    response = requests.get(url)\n",
    "    soup = BeautifulSoup(response.content, 'html.parser')\n",
    "\n",
    "    # Find the first tbody element\n",
    "    tbody_element = soup.find('tbody')\n",
    "\n",
    "    # Find all tr elements within the current tbody\n",
    "    tr_elements = tbody_element.find_all('tr')\n",
    "\n",
    "    # Loop through each tr element\n",
    "    for tr in tr_elements:\n",
    "        # Find the first td element within the current tr\n",
    "        td_element = tr.find('td')\n",
    "\n",
    "        # Find the first a element within the current td and extract its text\n",
    "        a_element = td_element.find('a')\n",
    "        a_text = a_element.text\n",
    "\n",
    "        # Convert the date string to the desired format\n",
    "        date_obj = datetime.strptime(a_text, '%d %B %Y')\n",
    "        formatted_date = date_obj.strftime('%Y%m%d')\n",
    "        a_text_list.append(formatted_date)\n",
    "\n",
    "print(a_text_list)"
   ]
  }
 ],
 "metadata": {
  "kernelspec": {
   "display_name": "base",
   "language": "python",
   "name": "python3"
  },
  "language_info": {
   "codemirror_mode": {
    "name": "ipython",
    "version": 3
   },
   "file_extension": ".py",
   "mimetype": "text/x-python",
   "name": "python",
   "nbconvert_exporter": "python",
   "pygments_lexer": "ipython3",
   "version": "3.9.16"
  },
  "orig_nbformat": 4,
  "vscode": {
   "interpreter": {
    "hash": "b8b887db99f8edfa7f3e3a008cc1b31fa63afeb09acb3c9f070418078094f7b2"
   }
  }
 },
 "nbformat": 4,
 "nbformat_minor": 2
}
